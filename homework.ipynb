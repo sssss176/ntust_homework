{
 "cells": [
  {
   "cell_type": "markdown",
   "metadata": {},
   "source": [
    "孫世嶸 D10515004"
   ]
  },
  {
   "cell_type": "markdown",
   "metadata": {},
   "source": [
    "a. 共計有多少Twitter參與這類關鍵字議題討論？"
   ]
  },
  {
   "cell_type": "code",
   "execution_count": 4,
   "metadata": {
    "collapsed": false
   },
   "outputs": [
    {
     "data": {
      "text/plain": [
       "77"
      ]
     },
     "execution_count": 4,
     "metadata": {},
     "output_type": "execute_result"
    }
   ],
   "source": [
    "import pyes\n",
    "import elasticsearch\n",
    "\n",
    "es_address='127.0.0.1:9200'\n",
    "conn = pyes.es.ES(es_address)\n",
    "bq = pyes.query.BoolQuery() \n",
    "\n",
    "# tq = pyes.query.TermQuery(field=\"text\", value=\"vulnerability\")\n",
    "\n",
    "tq = pyes.filters.TermsFilter(field=\"text\", values=[\"cybercrime\",\"cve\",\"apt\"]) \n",
    "ESR = pyes.ESRange(field=\"created_at\", from_value=\"Thu Jan 01 00:00:00 +0800 2015\", to_value=\"Thu Dec 20 23:59:59 +0800 2015\", \n",
    "                   include_lower=True ,include_upper=False)\n",
    "rq = pyes.query.RangeQuery(qrange=ESR)\n",
    "\n",
    "bq.add_must(tq)\n",
    "bq.add_must(rq)\n",
    "\n",
    "Tweetsresult = conn.search(query=bq , indices='twitter2' , doc_types='tweet') \n",
    "\n",
    "tweet_id_set=set()\n",
    "for i in range(0,len(Tweetsresult)):\n",
    "    if 'id' in Tweetsresult[i][\"user\"]:\n",
    "        tweet_id_set.add(Tweetsresult[i][\"user\"]['id'])\n",
    "len(tweet_id_set)\n",
    "# print json.dumps(Tweetsresult[0],indent=2)"
   ]
  },
  {
   "cell_type": "markdown",
   "metadata": {},
   "source": [
    "b. 共計有多少Tweets?"
   ]
  },
  {
   "cell_type": "code",
   "execution_count": 3,
   "metadata": {
    "collapsed": false
   },
   "outputs": [
    {
     "data": {
      "text/plain": [
       "2451"
      ]
     },
     "execution_count": 3,
     "metadata": {},
     "output_type": "execute_result"
    }
   ],
   "source": [
    "len(Tweetsresult)"
   ]
  },
  {
   "cell_type": "markdown",
   "metadata": {},
   "source": [
    "c.每個月參與的Twitter數量長條圖"
   ]
  },
  {
   "cell_type": "code",
   "execution_count": 5,
   "metadata": {
    "collapsed": false
   },
   "outputs": [],
   "source": [
    "import pyes\n",
    "import json\n",
    "\n",
    "\n",
    "tagg2 = pyes.aggs.TermsAgg('name', field= 'uid') \n",
    "DHAgg2 = pyes.aggs.DateHistogramAgg('1month' ,field='created_at', interval='1M', sub_aggs=[]) \n",
    "DHAgg2.sub_aggs.append(tagg2) \n",
    "\n",
    "qsearch2 = pyes.Search(bq)  \n",
    "qsearch2.agg.add(DHAgg2)\n",
    "\n",
    "rs2 = conn.search(query=qsearch2 ,indices='twitter2' ,type=\"tweet\" )\n",
    "allTwitter=[]\n",
    "\n",
    "# print json.dumps(rs2.aggs,indent=2) \n",
    "for user in rs2.aggs['1month']['buckets']:\n",
    "    user['key_as_string']=user['key_as_string'][26:30]+user['key_as_string'][4:7]\n",
    "    tempjson = {}\n",
    "    tempjson['abbr'] = user['key_as_string'] \n",
    "    tempjson['times'] = len(user['name']['buckets'])\n",
    "    allTwitter.append(tempjson)    \n",
    "# print json.dumps(allTwitter,indent=2)\n",
    "# df = df_from_json(allTwitter)\n",
    "# df"
   ]
  },
  {
   "cell_type": "code",
   "execution_count": 6,
   "metadata": {
    "collapsed": false
   },
   "outputs": [],
   "source": [
    "from bokeh.charts import Bar, output_file, show\n",
    "from bokeh.charts.attributes import cat, color\n",
    "from bokeh.charts.operations import blend\n",
    "from bokeh.charts.utils import df_from_json\n",
    "from bokeh.io import output_notebook\n",
    "\n",
    "# utilize utility to make it easy to get json/dict data converted to a dataframe\n",
    "df = df_from_json(allTwitter)\n",
    "\n",
    "bar = Bar(df,\n",
    "          values=blend('times', name='medals', labels_name='medal'),\n",
    "          label=cat(columns='abbr', sort=False),\n",
    "          stack=cat(columns='medal', sort=False),\n",
    "          color=color(columns='medal', palette=['black'],\n",
    "                      sort=False),\n",
    "          legend='top_right',\n",
    "          title=\"長條圖\")\n",
    "\n",
    "# output_notebook()\n",
    "output_file(\"Twitter_bar.html\", title=\"stacked_bar.py example\")\n",
    "\n",
    "show(bar)"
   ]
  },
  {
   "cell_type": "markdown",
   "metadata": {},
   "source": [
    "d. 每個月參Tweets數量長條圖"
   ]
  },
  {
   "cell_type": "code",
   "execution_count": 4,
   "metadata": {
    "collapsed": false,
    "scrolled": false
   },
   "outputs": [
    {
     "name": "stderr",
     "output_type": "stream",
     "text": [
      "INFO:bokeh.core.state:Session output file 'stacked_bar.html' already exists, will be overwritten.\n"
     ]
    }
   ],
   "source": [
    "import pyes\n",
    "import json\n",
    "\n",
    "tagg = pyes.aggs.TermsAgg('name', field= 'text', sub_aggs=[]) \n",
    "DHAgg = pyes.aggs.DateHistogramAgg('1month' ,field='created_at', interval='1M') \n",
    "tagg.sub_aggs.append(DHAgg) \n",
    "\n",
    "qsearch = pyes.Search(bq)  \n",
    "qsearch.agg.add(tagg)\n",
    "\n",
    "rs = conn.search(query=qsearch ,indices='twitter2' ,type=\"tweet\" )\n",
    "\n",
    "allTweets=[]\n",
    "\n",
    "for user in rs.aggs['name']['buckets']:      \n",
    "    if (user['key'].upper()==\"apt\".upper() or user['key'].upper()==\"cybercrime\".upper() or user['key'].upper()==\"cve\".upper()) :\n",
    "         for month in user['1month']['buckets']:\n",
    "             month['key_as_string']=month['key_as_string'][26:30]+month['key_as_string'][4:7]\n",
    "            \n",
    "for user in rs.aggs['name']['buckets']:      \n",
    "    if (user['key'].upper()==\"apt\".upper() or user['key'].upper()==\"cybercrime\".upper() or user['key'].upper()==\"cve\".upper()) :\n",
    "      for month in user['1month']['buckets']: \n",
    "        tempjson = {}\n",
    "        tempjson[user['key']] = month['doc_count']\n",
    "        tempjson['abbr'] = month['key_as_string']\n",
    "        allTweets.append(tempjson)    \n",
    "        \n",
    "#              print month['key_as_string']+ user['key']\n",
    "#              print month['doc_count']\n",
    "# print json.dumps(allTweets,indent=2) \n",
    "\n",
    "df = df_from_json(allTweets)\n",
    "\n",
    "bar = Bar(df,\n",
    "          values=blend('apt', 'cve', 'cybercrime', name='medals', labels_name='medal'),\n",
    "          label=cat(columns='abbr', sort=False),\n",
    "          stack=cat(columns='medal', sort=False),\n",
    "          color=color(columns='medal', palette=['SaddleBrown', 'Silver', 'Goldenrod'],\n",
    "                      sort=False),\n",
    "          legend='top_right',\n",
    "          title=\"長條圖\")\n",
    "\n",
    "\n",
    "output_file(\"stacked_bar.html\", title=\"stacked_bar.py example\")\n",
    "# output_notebook()\n",
    "show(bar)\n"
   ]
  },
  {
   "cell_type": "markdown",
   "metadata": {},
   "source": [
    "e. 其中有URL與無URL的Tweets的比例圓餅圖"
   ]
  },
  {
   "cell_type": "code",
   "execution_count": 8,
   "metadata": {
    "collapsed": false
   },
   "outputs": [
    {
     "name": "stderr",
     "output_type": "stream",
     "text": [
      "INFO:bokeh.core.state:Session output file 'donut.html' already exists, will be overwritten.\n"
     ]
    }
   ],
   "source": [
    "from bokeh.charts import Donut\n",
    "URLcount=0\n",
    "NOURLcount=0\n",
    "allURL=[]\n",
    "for i in range(0,len(Tweetsresult)):\n",
    "    if  Tweetsresult[i]['entities']['urls'] != []:\n",
    "        URLcount=URLcount+1\n",
    "    else:\n",
    "        NOURLcount=NOURLcount+1\n",
    "# print NOURLcount\n",
    "# print URLcount\n",
    "# print json.dumps(Tweetsresult[0]['entities']['urls'],indent=2)\n",
    "tempjson = {}\n",
    "tempjson['abbr'] = 'URL'\n",
    "tempjson['times'] = URLcount\n",
    "allURL.append(tempjson)  \n",
    "tempjson = {}\n",
    "tempjson['abbr'] = 'NO_URL'\n",
    "tempjson['times'] = NOURLcount\n",
    "allURL.append(tempjson)  \n",
    "import pandas as pd\n",
    "\n",
    "# utilize utility to make it easy to get json/dict data converted to a dataframe\n",
    "df = df_from_json(allURL)\n",
    "\n",
    "# filter by countries with at least one medal and sort by total medals\n",
    "# df = df[df['total'] > 8]\n",
    "# df = df.sort(\"total\", ascending=False)\n",
    "df = pd.melt(df, id_vars=['abbr'],\n",
    "             value_vars=['times'],\n",
    "             value_name='medal_count', var_name='medal')\n",
    "\n",
    "# original example\n",
    "d = Donut(df, label=['abbr'], values='medal_count',\n",
    "          text_font_size='8pt', hover_text='medal_count')\n",
    "\n",
    "output_file(\"donut.html\", title=\"donut.py example\")\n",
    "\n",
    "show(d)"
   ]
  },
  {
   "cell_type": "markdown",
   "metadata": {
    "collapsed": true
   },
   "source": [
    "f.請依照每個月繪製各Twitter所提到CVE的箱型圖"
   ]
  },
  {
   "cell_type": "code",
   "execution_count": 34,
   "metadata": {
    "collapsed": false
   },
   "outputs": [
    {
     "name": "stderr",
     "output_type": "stream",
     "text": [
      "INFO:bokeh.core.state:Session output file 'boxplot_single.html' already exists, will be overwritten.\n"
     ]
    }
   ],
   "source": [
    "import pyes\n",
    "import json\n",
    "\n",
    "import elasticsearch\n",
    "\n",
    "es_address='127.0.0.1:9200'\n",
    "conn = pyes.es.ES(es_address)\n",
    "bq2 = pyes.query.BoolQuery() \n",
    "\n",
    "# tq = pyes.query.TermQuery(field=\"text\", value=\"vulnerability\")\n",
    "\n",
    "tq = pyes.filters.TermsFilter(field=\"text\", values=[\"cve\"]) \n",
    "ESR = pyes.ESRange(field=\"created_at\", from_value=\"Thu Jan 01 00:00:00 +0800 2015\", to_value=\"Thu Dec 20 23:59:59 +0800 2015\", \n",
    "                   include_lower=True ,include_upper=False)\n",
    "rq = pyes.query.RangeQuery(qrange=ESR)\n",
    "\n",
    "bq2.add_must(tq)\n",
    "bq2.add_must(rq)\n",
    "\n",
    "\n",
    "tagg2 = pyes.aggs.TermsAgg('name', field= 'uid') \n",
    "DHAgg2 = pyes.aggs.DateHistogramAgg('1month' ,field='created_at', interval='1M', sub_aggs=[]) \n",
    "DHAgg2.sub_aggs.append(tagg2) \n",
    "allTwitterPost=[]\n",
    "cats=[]\n",
    "qsearch2 = pyes.Search(bq2)  \n",
    "qsearch2.agg.add(DHAgg2)\n",
    "\n",
    "rs2 = conn.search(query=qsearch2 ,indices='twitter2' ,type=\"tweet\" )\n",
    "# print json.dumps(rs2.aggs,indent=2)\n",
    "for user in rs2.aggs['1month']['buckets']:    \n",
    "    for post_count in user['name']['buckets']: \n",
    "        tempjson = {}\n",
    "        tempjson['group'] = user['key_as_string'][4:7] \n",
    "        tempjson['score'] = post_count['doc_count'] \n",
    "        allTwitterPost.append(tempjson)  \n",
    "        cats.append(str(user['key_as_string'][4:7]))\n",
    "# print json.dumps(allTwitterPost,indent=2)\n",
    "from bokeh.charts import BoxPlot, output_file, show\n",
    "df = pd.DataFrame(allTwitterPost)\n",
    "# origin = the source of the data that makes up the autompg dataset\n",
    "title = \"MPG by Cylinders and Data Source, Colored by Cylinders\"\n",
    "\n",
    "# color by one dimension and label by two dimensions\n",
    "# coloring by one of the columns visually groups them together\n",
    "box_plot = BoxPlot(df, label='group', values='score',\n",
    "                   color='group', title=title)\n",
    "\n",
    "output_file(\"boxplot_single.html\", title=\"boxplot_single.py example\")\n",
    "# output_notebook()\n",
    "show(box_plot)"
   ]
  },
  {
   "cell_type": "markdown",
   "metadata": {},
   "source": [
    "g. 能否分析資安弱點分析指標帳號？如何分析？\n",
    "   A:分析每篇文章的 favorite_count數與retweet_count數\n",
    "   給予不同的權重\n",
    "   favorite +1分\n",
    "   retweet  +3分\n",
    "   最後總分數大於自行設定的目標2000分數，即可以成為指標帳號。"
   ]
  },
  {
   "cell_type": "code",
   "execution_count": 81,
   "metadata": {
    "collapsed": false
   },
   "outputs": [
    {
     "data": {
      "text/html": [
       "<div>\n",
       "<table border=\"1\" class=\"dataframe\">\n",
       "  <thead>\n",
       "    <tr style=\"text-align: right;\">\n",
       "      <th></th>\n",
       "      <th>socre</th>\n",
       "      <th>uid</th>\n",
       "    </tr>\n",
       "  </thead>\n",
       "  <tbody>\n",
       "    <tr>\n",
       "      <th>0</th>\n",
       "      <td>5544.0</td>\n",
       "      <td>405658492</td>\n",
       "    </tr>\n",
       "    <tr>\n",
       "      <th>1</th>\n",
       "      <td>2610.0</td>\n",
       "      <td>14277681</td>\n",
       "    </tr>\n",
       "    <tr>\n",
       "      <th>2</th>\n",
       "      <td>9902.0</td>\n",
       "      <td>18983429</td>\n",
       "    </tr>\n",
       "    <tr>\n",
       "      <th>3</th>\n",
       "      <td>3339.0</td>\n",
       "      <td>8917142</td>\n",
       "    </tr>\n",
       "  </tbody>\n",
       "</table>\n",
       "</div>"
      ],
      "text/plain": [
       "    socre        uid\n",
       "0  5544.0  405658492\n",
       "1  2610.0   14277681\n",
       "2  9902.0   18983429\n",
       "3  3339.0    8917142"
      ]
     },
     "execution_count": 81,
     "metadata": {},
     "output_type": "execute_result"
    }
   ],
   "source": [
    "import pyes\n",
    "import json\n",
    "\n",
    "tagg1 = pyes.aggs.TermsAgg('name', field= 'uid', sub_aggs=[]) \n",
    "tagg2 = pyes.aggs.SumAgg('favorite_count' ,field='favorite_count')\n",
    "tagg3 = pyes.aggs.SumAgg('retweet_count' ,field='retweet_count')\n",
    "\n",
    "qsearch2 = pyes.Search(bq)\n",
    "tagg1.sub_aggs.append(tagg2) \n",
    "tagg1.sub_aggs.append(tagg3) \n",
    "qsearch2.agg.add(tagg1)\n",
    "\n",
    "rs2 = conn.search(query=qsearch2 ,indices='twitter2' ,type=\"tweet\" )\n",
    "someone=[]\n",
    "Uidlist20=[]\n",
    "\n",
    "# print json.dumps(rs2.aggs,indent=2) \n",
    "\n",
    "for user in rs2.aggs['name']['buckets']:\n",
    "    socre=user['retweet_count']['value']*3+ user['favorite_count']['value']\n",
    "    if socre >= 2000 :\n",
    "        tempjson = {}\n",
    "        tempjson['socre'] = socre\n",
    "        tempjson['uid'] = user['key']       \n",
    "        someone.append(tempjson)    \n",
    "    if socre >= 270 :\n",
    "        Uidlist20.append(str(user['key']))\n",
    "df = df_from_json(someone) \n",
    "df"
   ]
  },
  {
   "cell_type": "markdown",
   "metadata": {},
   "source": [
    "3.請選擇20個以上感興趣的Twitter帳號，定義三類分析帳號標籤，並\n",
    "分析Twitter所討論的Tweet內容，萃取關鍵字為屬性，透過決策術\n",
    "演算法取得分類規則，請呈現決策術並以Heatmap對於決策樹的參\n",
    "數進行分析。\n",
    "依照Twitter關鍵字出現次數\n",
    "\"cybercrime\",\"cve\",\"apt\"\n",
    "分為三類資安界rookie(新手)、veteran(老鳥)、master(大師)"
   ]
  },
  {
   "cell_type": "code",
   "execution_count": 107,
   "metadata": {
    "collapsed": false
   },
   "outputs": [],
   "source": [
    "texttagg = pyes.aggs.TermsAgg('uid', field= 'uid', sub_aggs=[]) \n",
    "uidagg = pyes.aggs.TermsAgg('text' ,field='text') \n",
    "texttagg.sub_aggs.append(uidagg) \n",
    "\n",
    "qsearch = pyes.Search(bq)  \n",
    "qsearch.agg.add(texttagg)\n",
    "\n",
    "rs = conn.search(query=qsearch ,indices='twitter2' ,type=\"tweet\" )\n",
    "\n",
    "allTweets=[]\n",
    "\n",
    "for user in rs.aggs['uid']['buckets']: \n",
    "    if any(str(user['key']) in s for s in Uidlist20):\n",
    "      tempjson = {}\n",
    "      for KEYtext in user['text']['buckets']:         \n",
    "            if (KEYtext['key']==\"apt\" or KEYtext['key']==\"cybercrime\" or KEYtext['key']==\"cve\"):               \n",
    "                tempjson[KEYtext['key']] = KEYtext['doc_count']\n",
    "                allTweets.append(tempjson)    \n",
    "# 將計算結果自行製作.csv檔，給予次數分類"
   ]
  },
  {
   "cell_type": "code",
   "execution_count": 121,
   "metadata": {
    "collapsed": false
   },
   "outputs": [
    {
     "name": "stdout",
     "output_type": "stream",
     "text": [
      "Best score: 0.714285714286\n",
      "Best parameters: {'max_features': 2, 'max_depth': 3}\n"
     ]
    }
   ],
   "source": [
    "from sklearn.grid_search import GridSearchCV\n",
    "from sklearn.tree import DecisionTreeClassifier\n",
    "from sklearn.cross_validation import StratifiedKFold\n",
    "import numpy as np\n",
    "import seaborn as sb\n",
    "import matplotlib.pyplot as plt\n",
    "import pandas as pd\n",
    "\n",
    "%matplotlib inline\n",
    "\n",
    "iris_data_clean = pd.read_csv('homwork.csv')\n",
    "# iris_data_clean.head()\n",
    "# We're using all four measurements as inputs\n",
    "# Note that scikit-learn expects each entry to be a list of values, e.g.,\n",
    "# [ [val1, val2, val3],\n",
    "#   [val1, val2, val3],\n",
    "#   ... ]\n",
    "# such that our input data set is represented as a list of lists\n",
    "\n",
    "# We can extract the data in this format from pandas like this:\n",
    "all_inputs = iris_data_clean[['apt', 'cybercrime','cve']].values\n",
    "\n",
    "# Similarly, we can extract the classes\n",
    "all_classes = iris_data_clean['class'].values\n",
    "\n",
    "decision_tree_classifier = DecisionTreeClassifier()\n",
    "\n",
    "\n",
    "parameter_grid = {'max_depth': [1, 2, 3],\n",
    "                  'max_features': [1, 2, 3]}\n",
    "\n",
    "cross_validation = StratifiedKFold(all_classes, n_folds=3)\n",
    "\n",
    "grid_search = GridSearchCV(decision_tree_classifier,\n",
    "                           param_grid=parameter_grid,\n",
    "                           cv=cross_validation)\n",
    "\n",
    "grid_search.fit(all_inputs, all_classes)\n",
    "print('Best score: {}'.format(grid_search.best_score_))\n",
    "print('Best parameters: {}'.format(grid_search.best_params_))"
   ]
  },
  {
   "cell_type": "code",
   "execution_count": 122,
   "metadata": {
    "collapsed": false
   },
   "outputs": [
    {
     "data": {
      "text/plain": [
       "<matplotlib.text.Text at 0x13329b90>"
      ]
     },
     "execution_count": 122,
     "metadata": {},
     "output_type": "execute_result"
    },
    {
     "data": {
      "image/png": "[encoded data removed]",
      "text/plain": [
       "<matplotlib.figure.Figure at 0x1317fa30>"
      ]
     },
     "metadata": {},
     "output_type": "display_data"
    }
   ],
   "source": [
    "grid_visualization = []\n",
    "\n",
    "for grid_pair in grid_search.grid_scores_:\n",
    "    grid_visualization.append(grid_pair.mean_validation_score)\n",
    "    \n",
    "grid_visualization = np.array(grid_visualization)\n",
    "grid_visualization.shape = (3,3)\n",
    "sb.heatmap(grid_visualization, cmap='Reds')\n",
    "\n",
    "plt.xticks(np.arange(3) + 0.5, grid_search.param_grid['max_features'])\n",
    "plt.yticks(np.arange(3) + 0.5, grid_search.param_grid['max_depth'][::-1])\n",
    "plt.xlabel('max_features')\n",
    "plt.ylabel('max_depth')"
   ]
  }
 ],
 "metadata": {
  "kernelspec": {
   "display_name": "Python 2",
   "language": "python",
   "name": "python2"
  },
  "language_info": {
   "codemirror_mode": {
    "name": "ipython",
    "version": 2
   },
   "file_extension": ".py",
   "mimetype": "text/x-python",
   "name": "python",
   "nbconvert_exporter": "python",
   "pygments_lexer": "ipython2",
   "version": "2.7.12"
  }
 },
 "nbformat": 4,
 "nbformat_minor": 1
}
